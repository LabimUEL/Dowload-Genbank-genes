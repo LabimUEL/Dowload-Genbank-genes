{
 "cells": [
  {
   "cell_type": "code",
   "execution_count": 2,
   "id": "03ca91cd-7408-4225-b449-bea752128bcb",
   "metadata": {},
   "outputs": [],
   "source": [
    "import pandas as pd\n",
    "import re\n",
    "import os\n",
    "from subprocess import call\n",
    "from Bio import SeqIO\n",
    "from Bio.Seq import Seq\n",
    "from Bio.SeqRecord import SeqRecord\n",
    "import sys"
   ]
  },
  {
   "cell_type": "code",
   "execution_count": 16,
   "id": "5a456fca-e5e4-47af-b608-c79fdba771ef",
   "metadata": {},
   "outputs": [],
   "source": [
    "\n",
    "\n",
    "for dirpath, dirnames, files in os.walk('./'):\n",
    "    for dirname in dirnames:\n",
    "        pastas = dirname\n",
    "    #print(f'Found directory: {dirpath}')\n",
    "    for file_name in files:\n",
    "        file_path = os.path.join(dirpath, file_name)\n",
    "        if file_name == 'data_summary.tsv':\n",
    "            df = pd.read_csv(file_path, sep='\\t', dtype=\"string\")\n",
    "            name_accession = df[['Organism Scientific Name','Assembly Accession','Organism Qualifier']]\n",
    "            #print(name_accession)\n",
    "        if file_name.endswith('genomic.fna') and file_name.startswith('G'):\n",
    "            #print(file_path)\n",
    "            split_dirpath = dirpath.split('/')[-1]\n",
    "            auxiliar = name_accession[name_accession[\"Assembly Accession\"] == split_dirpath].reset_index(drop=True)\n",
    "            nome = str(auxiliar['Organism Scientific Name'].values[0])\n",
    "            strain = str(auxiliar['Organism Qualifier'].values[0])\n",
    "            nome0 = nome.split(' ')[0]\n",
    "            nome1 = nome.split(' ')[1]\n",
    "            full_name = nome0 + '_' + nome1\n",
    "            #print(full_name)\n",
    "            \n",
    "            strain1 = strain.split(': ')[1]\n",
    "            strain2 = strain1.replace(' ', '_')\n",
    "            #print(strain1, \"\\n\")\n",
    "            \n",
    "            genome_full_name = full_name + '_' + strain2\n",
    "            #print(genome_full_name)\n",
    "            cmd = 'cp '+file_path+' /home/labim/Documentos/arquivos_genoma/Referencias/Bacillus_dataset/'+genome_full_name+'.fasta'\n",
    "            call(cmd, shell=True)\n",
    "            \n",
    "\n"
   ]
  },
  {
   "cell_type": "code",
   "execution_count": null,
   "id": "b0ce6752-a2e9-4b62-ada6-a9cf18eeead1",
   "metadata": {},
   "outputs": [],
   "source": [
    "from Bio import SeqIO\n",
    "\n",
    "for record in SeqIO.parse(\"amyloCC178.fasta\", \"fasta\"):\n",
    "    print(len(record))\n"
   ]
  },
  {
   "cell_type": "code",
   "execution_count": null,
   "id": "5d97cc72-f7dc-4788-80a9-87a1e4f321af",
   "metadata": {},
   "outputs": [],
   "source": []
  }
 ],
 "metadata": {
  "kernelspec": {
   "display_name": "Python 3 (ipykernel)",
   "language": "python",
   "name": "python3"
  },
  "language_info": {
   "codemirror_mode": {
    "name": "ipython",
    "version": 3
   },
   "file_extension": ".py",
   "mimetype": "text/x-python",
   "name": "python",
   "nbconvert_exporter": "python",
   "pygments_lexer": "ipython3",
   "version": "3.8.11"
  }
 },
 "nbformat": 4,
 "nbformat_minor": 5
}
