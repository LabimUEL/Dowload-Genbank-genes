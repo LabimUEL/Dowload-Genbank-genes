{
 "cells": [
  {
   "cell_type": "code",
   "execution_count": 2,
   "id": "03ca91cd-7408-4225-b449-bea752128bcb",
   "metadata": {},
   "outputs": [],
   "source": [
    "import pandas as pd\n",
    "import os\n",
    "from subprocess import call\n",
    "import sys"
   ]
  },
  {
   "cell_type": "code",
   "execution_count": 16,
   "id": "5a456fca-e5e4-47af-b608-c79fdba771ef",
   "metadata": {},
   "outputs": [],
   "source": [
    "for dirpath, dirnames, files in os.walk('./'):\n",
    "    for file_name in files:\n",
    "        file_path = os.path.join(dirpath, file_name)\n",
    "        if file_name == 'data_summary.tsv':\n",
    "            df = pd.read_csv(file_path, sep='\\t', dtype=\"string\")\n",
    "            name_accession = df[['Organism Scientific Name','Assembly Accession','Organism Qualifier']]\n",
    "            \n",
    "        if file_name.endswith('genomic.fna') and file_name.startswith('G'):\n",
    "            split_dirpath = dirpath.split('/')[-1]\n",
    "            auxiliar = name_accession[name_accession[\"Assembly Accession\"] == split_dirpath].reset_index(drop=True)\n",
    "            nome = str(auxiliar['Organism Scientific Name'].values[0])\n",
    "            strain = str(auxiliar['Organism Qualifier'].values[0])\n",
    "            \n",
    "            nome0 = nome.split(' ')[0]\n",
    "            nome1 = nome.split(' ')[1]\n",
    "            full_name = nome0 + '_' + nome1            \n",
    "            strain1 = strain.split(': ')[1]\n",
    "            strain2 = strain1.replace(' ', '_')            \n",
    "            genome_full_name = full_name + '_' + strain2\n",
    "            \n",
    "            cmd = 'cp '+file_path+' /home/labim/Documentos/arquivos_genoma/Referencias/Bacillus_dataset/'+genome_full_name+'.fasta'\n",
    "            call(cmd, shell=True)          \n",
    "\n"
   ]
  }
 ],
 "metadata": {
  "kernelspec": {
   "display_name": "Python 3 (ipykernel)",
   "language": "python",
   "name": "python3"
  },
  "language_info": {
   "codemirror_mode": {
    "name": "ipython",
    "version": 3
   },
   "file_extension": ".py",
   "mimetype": "text/x-python",
   "name": "python",
   "nbconvert_exporter": "python",
   "pygments_lexer": "ipython3",
   "version": "3.8.11"
  }
 },
 "nbformat": 4,
 "nbformat_minor": 5
}
